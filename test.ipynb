{
 "cells": [
  {
   "cell_type": "code",
   "execution_count": 1,
   "id": "a65ad897",
   "metadata": {},
   "outputs": [],
   "source": [
    "import networkx as nx\n",
    "import numpy as np"
   ]
  },
  {
   "cell_type": "code",
   "execution_count": 4,
   "id": "450dcd02",
   "metadata": {},
   "outputs": [
    {
     "name": "stdout",
     "output_type": "stream",
     "text": [
      "Edge (0, 1) has weight 2\n",
      "Edge (1, 2) has weight 1\n"
     ]
    }
   ],
   "source": [
    "\n",
    "\n",
    "# Example NumPy matrix with edge weights\n",
    "matrix = np.array([[0, 2, 0],\n",
    "                   [2, 0, 1],\n",
    "                   [0, 1, 0]])\n",
    "\n",
    "# Create a graph with edge weights\n",
    "G = nx.from_numpy_matrix(matrix)\n",
    "\n",
    "# # If you want to label nodes, you can do it as follows:\n",
    "# labels = {0: 'Node 0', 1: 'Node 1', 2: 'Node 2'}\n",
    "# G = nx.relabel_nodes(G, labels)\n",
    "\n",
    "# # Now G is a NetworkX graph representation of your NumPy matrix with edge weights\n",
    "# # You can access edge weights using G.edges[edge]['weight']\n",
    "\n",
    "# # Example of accessing edge weights\n",
    "for edge in G.edges():\n",
    "    print(f\"Edge {edge} has weight {G.edges[edge]['weight']}\")\n",
    "\n",
    "# # Visualize the graph\n",
    "# import matplotlib.pyplot as plt\n",
    "# nx.draw(G, with_labels=True)\n",
    "# plt.show()\n"
   ]
  },
  {
   "cell_type": "code",
   "execution_count": 3,
   "id": "24b3535f",
   "metadata": {},
   "outputs": [
    {
     "data": {
      "text/plain": [
       "<networkx.classes.graph.Graph at 0x7f1387876dd0>"
      ]
     },
     "execution_count": 3,
     "metadata": {},
     "output_type": "execute_result"
    }
   ],
   "source": [
    "G"
   ]
  },
  {
   "cell_type": "code",
   "execution_count": 5,
   "id": "afa1db83",
   "metadata": {},
   "outputs": [
    {
     "ename": "NameError",
     "evalue": "name 'edge_weights' is not defined",
     "output_type": "error",
     "traceback": [
      "\u001b[0;31m---------------------------------------------------------------------------\u001b[0m",
      "\u001b[0;31mNameError\u001b[0m                                 Traceback (most recent call last)",
      "Cell \u001b[0;32mIn[5], line 1\u001b[0m\n\u001b[0;32m----> 1\u001b[0m \u001b[43medge_weights\u001b[49m\n",
      "\u001b[0;31mNameError\u001b[0m: name 'edge_weights' is not defined"
     ]
    }
   ],
   "source": [
    "edge_weights"
   ]
  },
  {
   "cell_type": "code",
   "execution_count": null,
   "id": "3958b917",
   "metadata": {},
   "outputs": [],
   "source": []
  }
 ],
 "metadata": {
  "kernelspec": {
   "display_name": "Python 3 (ipykernel)",
   "language": "python",
   "name": "python3"
  },
  "language_info": {
   "codemirror_mode": {
    "name": "ipython",
    "version": 3
   },
   "file_extension": ".py",
   "mimetype": "text/x-python",
   "name": "python",
   "nbconvert_exporter": "python",
   "pygments_lexer": "ipython3",
   "version": "3.10.12"
  }
 },
 "nbformat": 4,
 "nbformat_minor": 5
}
